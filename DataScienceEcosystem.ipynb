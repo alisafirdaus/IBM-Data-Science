{
 "cells": [
  {
   "cell_type": "markdown",
   "id": "d53716f4-6ddd-4054-8c7d-8d42d3e8d0df",
   "metadata": {},
   "source": [
    " #  Data Science Tools and Ecosystem"
   ]
  },
  {
   "cell_type": "markdown",
   "id": "334ff44e-3055-4875-b9e8-1d8b82a4e0a1",
   "metadata": {},
   "source": [
    "In this notebook, Data Science Tools and Ecosystem are summarized."
   ]
  },
  {
   "cell_type": "markdown",
   "id": "7a9b1439-6b7d-44ad-8395-8b4a64ae8213",
   "metadata": {},
   "source": [
    "Some of the popular languages that Data Scientists use are:\n",
    "1. Python\n",
    "2. R\n",
    "3. Julia\n",
    "4. JavaScript\n",
    "5. Java\n",
    "6. C++\n",
    "7. Scala\n",
    "8. SQL"
   ]
  },
  {
   "cell_type": "markdown",
   "id": "28a1daf9-ca99-4c71-ab7c-c9d0ab200534",
   "metadata": {},
   "source": [
    "**Objectives:**\n",
    "\n",
    "+ List popular languages in Data Science\n",
    "+ List commonly used libraries in Data Science\n",
    "+ List commonly used IDE for Data Science"
   ]
  },
  {
   "cell_type": "markdown",
   "id": "25b801f0-c7f5-46f7-b15a-537efaa7cd38",
   "metadata": {},
   "source": [
    "Some of the commonly used libraries used by Data Scientists include:\n",
    "\n",
    "+ TensorFlow\n",
    "+ Keras\n",
    "+ Plotly\n",
    "+ NumPy\n",
    "+ Pandas"
   ]
  },
  {
   "cell_type": "markdown",
   "id": "298bd811-4b1b-4cf5-ac31-6f69d9eebdd4",
   "metadata": {},
   "source": [
    "| Data Science Tools |\n",
    "| ------------------ |\n",
    "| Spyder             |\n",
    "| GitHub             |\n",
    "| RStudio            |"
   ]
  },
  {
   "cell_type": "markdown",
   "id": "52b0d5b7-c546-4718-bcdd-86ac5a808b4e",
   "metadata": {},
   "source": [
    "### Below are a few examples of evaluating arithmetic expressions in Python.\n"
   ]
  },
  {
   "cell_type": "code",
   "execution_count": 5,
   "id": "c93c78d9-0333-4ce7-bef0-262b4b84fcdf",
   "metadata": {},
   "outputs": [
    {
     "data": {
      "text/plain": [
       "17"
      ]
     },
     "execution_count": 5,
     "metadata": {},
     "output_type": "execute_result"
    }
   ],
   "source": [
    "# This a simple arithmetic expression to mutiply then add integers \n",
    "(3*4)+5"
   ]
  },
  {
   "cell_type": "code",
   "execution_count": 7,
   "id": "18af76f7-0493-4c23-950c-8ea955479b65",
   "metadata": {},
   "outputs": [
    {
     "data": {
      "text/plain": [
       "3.3333333333333335"
      ]
     },
     "execution_count": 7,
     "metadata": {},
     "output_type": "execute_result"
    }
   ],
   "source": [
    "# This will convert 200 minutes to hours by diving by 60\n",
    "200/60"
   ]
  },
  {
   "cell_type": "markdown",
   "id": "5dd82788-b568-4eb5-8231-baddfc8c74ab",
   "metadata": {},
   "source": [
    "## Author\n",
    "Alisa Firdaus\n"
   ]
  },
  {
   "cell_type": "code",
   "execution_count": null,
   "id": "43f16194-867c-470c-9c37-10a633d7766c",
   "metadata": {},
   "outputs": [],
   "source": []
  }
 ],
 "metadata": {
  "kernelspec": {
   "display_name": "Python 3 (ipykernel)",
   "language": "python",
   "name": "python3"
  },
  "language_info": {
   "codemirror_mode": {
    "name": "ipython",
    "version": 3
   },
   "file_extension": ".py",
   "mimetype": "text/x-python",
   "name": "python",
   "nbconvert_exporter": "python",
   "pygments_lexer": "ipython3",
   "version": "3.12.4"
  }
 },
 "nbformat": 4,
 "nbformat_minor": 5
}
